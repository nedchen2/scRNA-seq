{
 "cells": [
  {
   "cell_type": "code",
   "execution_count": 4,
   "metadata": {},
   "outputs": [
    {
     "name": "stdout",
     "output_type": "stream",
     "text": [
      "<class 'pandas.io.pytables.HDFStore'>\n",
      "File path: train_data.h5\n",
      "\n",
      "[]\n"
     ]
    },
    {
     "ename": "KeyError",
     "evalue": "'No object named rpkm in the file'",
     "output_type": "error",
     "traceback": [
      "\u001b[1;31m---------------------------------------------------------------------------\u001b[0m",
      "\u001b[1;31mKeyError\u001b[0m                                  Traceback (most recent call last)",
      "\u001b[1;32m<ipython-input-4-085b666ed5dc>\u001b[0m in \u001b[0;36m<module>\u001b[1;34m\u001b[0m\n\u001b[0;32m     24\u001b[0m \u001b[1;33m\u001b[0m\u001b[0m\n\u001b[0;32m     25\u001b[0m \u001b[1;31m# Get the feature matrix (samples and their features)\u001b[0m\u001b[1;33m\u001b[0m\u001b[1;33m\u001b[0m\u001b[1;33m\u001b[0m\u001b[0m\n\u001b[1;32m---> 26\u001b[1;33m \u001b[0mfeature_matrix_dataframe\u001b[0m \u001b[1;33m=\u001b[0m \u001b[0mstore\u001b[0m\u001b[1;33m[\u001b[0m\u001b[1;34m'rpkm'\u001b[0m\u001b[1;33m]\u001b[0m  \u001b[1;31m# train的数据框架\u001b[0m\u001b[1;33m\u001b[0m\u001b[1;33m\u001b[0m\u001b[0m\n\u001b[0m\u001b[0;32m     27\u001b[0m \u001b[0mfeature_matrix_dataframe_test\u001b[0m \u001b[1;33m=\u001b[0m \u001b[0mstore1\u001b[0m\u001b[1;33m[\u001b[0m\u001b[1;34m'rpkm'\u001b[0m\u001b[1;33m]\u001b[0m  \u001b[1;31m# test的数据框架\u001b[0m\u001b[1;33m\u001b[0m\u001b[1;33m\u001b[0m\u001b[0m\n\u001b[0;32m     28\u001b[0m \u001b[1;33m\u001b[0m\u001b[0m\n",
      "\u001b[1;32m~\\anaconda3\\lib\\site-packages\\pandas\\io\\pytables.py\u001b[0m in \u001b[0;36m__getitem__\u001b[1;34m(self, key)\u001b[0m\n\u001b[0;32m    551\u001b[0m \u001b[1;33m\u001b[0m\u001b[0m\n\u001b[0;32m    552\u001b[0m     \u001b[1;32mdef\u001b[0m \u001b[0m__getitem__\u001b[0m\u001b[1;33m(\u001b[0m\u001b[0mself\u001b[0m\u001b[1;33m,\u001b[0m \u001b[0mkey\u001b[0m\u001b[1;33m:\u001b[0m \u001b[0mstr\u001b[0m\u001b[1;33m)\u001b[0m\u001b[1;33m:\u001b[0m\u001b[1;33m\u001b[0m\u001b[1;33m\u001b[0m\u001b[0m\n\u001b[1;32m--> 553\u001b[1;33m         \u001b[1;32mreturn\u001b[0m \u001b[0mself\u001b[0m\u001b[1;33m.\u001b[0m\u001b[0mget\u001b[0m\u001b[1;33m(\u001b[0m\u001b[0mkey\u001b[0m\u001b[1;33m)\u001b[0m\u001b[1;33m\u001b[0m\u001b[1;33m\u001b[0m\u001b[0m\n\u001b[0m\u001b[0;32m    554\u001b[0m \u001b[1;33m\u001b[0m\u001b[0m\n\u001b[0;32m    555\u001b[0m     \u001b[1;32mdef\u001b[0m \u001b[0m__setitem__\u001b[0m\u001b[1;33m(\u001b[0m\u001b[0mself\u001b[0m\u001b[1;33m,\u001b[0m \u001b[0mkey\u001b[0m\u001b[1;33m:\u001b[0m \u001b[0mstr\u001b[0m\u001b[1;33m,\u001b[0m \u001b[0mvalue\u001b[0m\u001b[1;33m)\u001b[0m\u001b[1;33m:\u001b[0m\u001b[1;33m\u001b[0m\u001b[1;33m\u001b[0m\u001b[0m\n",
      "\u001b[1;32m~\\anaconda3\\lib\\site-packages\\pandas\\io\\pytables.py\u001b[0m in \u001b[0;36mget\u001b[1;34m(self, key)\u001b[0m\n\u001b[0;32m    744\u001b[0m         \u001b[0mgroup\u001b[0m \u001b[1;33m=\u001b[0m \u001b[0mself\u001b[0m\u001b[1;33m.\u001b[0m\u001b[0mget_node\u001b[0m\u001b[1;33m(\u001b[0m\u001b[0mkey\u001b[0m\u001b[1;33m)\u001b[0m\u001b[1;33m\u001b[0m\u001b[1;33m\u001b[0m\u001b[0m\n\u001b[0;32m    745\u001b[0m         \u001b[1;32mif\u001b[0m \u001b[0mgroup\u001b[0m \u001b[1;32mis\u001b[0m \u001b[1;32mNone\u001b[0m\u001b[1;33m:\u001b[0m\u001b[1;33m\u001b[0m\u001b[1;33m\u001b[0m\u001b[0m\n\u001b[1;32m--> 746\u001b[1;33m             \u001b[1;32mraise\u001b[0m \u001b[0mKeyError\u001b[0m\u001b[1;33m(\u001b[0m\u001b[1;34mf\"No object named {key} in the file\"\u001b[0m\u001b[1;33m)\u001b[0m\u001b[1;33m\u001b[0m\u001b[1;33m\u001b[0m\u001b[0m\n\u001b[0m\u001b[0;32m    747\u001b[0m         \u001b[1;32mreturn\u001b[0m \u001b[0mself\u001b[0m\u001b[1;33m.\u001b[0m\u001b[0m_read_group\u001b[0m\u001b[1;33m(\u001b[0m\u001b[0mgroup\u001b[0m\u001b[1;33m)\u001b[0m\u001b[1;33m\u001b[0m\u001b[1;33m\u001b[0m\u001b[0m\n\u001b[0;32m    748\u001b[0m \u001b[1;33m\u001b[0m\u001b[0m\n",
      "\u001b[1;31mKeyError\u001b[0m: 'No object named rpkm in the file'"
     ]
    }
   ],
   "source": [
    "import seaborn as sns\n",
    "from sklearn.datasets import load_iris\n",
    "import pandas as pd\n",
    "import sklearn as sk\n",
    "import numpy as np\n",
    "from sklearn.feature_selection import VarianceThreshold  # 导入python的相关模块\n",
    "from sklearn.ensemble import RandomForestClassifier\n",
    "from sklearn.model_selection import cross_val_score\n",
    "from sklearn.metrics import confusion_matrix as CM\n",
    "from sklearn.metrics import accuracy_score as ACCS\n",
    "import pandas as pd\n",
    "from sklearn import tree\n",
    "from sklearn import decomposition\n",
    "from sklearn.metrics import confusion_matrix\n",
    "import matplotlib.pyplot as plt\n",
    "import numpy as np\n",
    "\n",
    "# open up a datastore\n",
    "store = pd.HDFStore('train_data.h5')\n",
    "store1 = pd.HDFStore('test_data.h5')\n",
    "\n",
    "print (store)\n",
    "print (store.keys())\n",
    "\n",
    "# Get the feature matrix (samples and their features)\n",
    "feature_matrix_dataframe = store['rpkm']  # train的数据框架\n",
    "feature_matrix_dataframe_test = store1['rpkm']  # test的数据框架\n",
    "\n",
    "all_in = pd.concat([feature_matrix_dataframe, feature_matrix_dataframe_test], axis=0, join='inner')\n",
    "\n",
    "name = all_in.index.values  # 提取行标签\n",
    "\n",
    "data = all_in.values  # 提取数据丢掉标签（总和数据）\n",
    "sel = VarianceThreshold(threshold=20)  # 表示剔除特征的方差大于阈值15的feature\n",
    "new = sel.fit_transform(data)  # 返回的结果为选择的特征矩阵\n",
    "new_all = pd.DataFrame(new, index=name)  # 得到只剩下feature的新数据\n",
    "a = new_all.iloc[:5, 3]\n",
    "new_train = new_all.iloc[:21389, ]  # 新的train数据\n",
    "new_test = new_all.iloc[21389:, ]  # 新的test数据\n",
    "\n",
    "# 注意，新数据的gene序列（columns）被抹掉了，但是这不重要\n",
    "# 唯一的问题是所有的数据一起提取方差了\n",
    "\n",
    "\n",
    "pca = decomposition.PCA(n_components=50)\n",
    "new_train_afterPCA = pca.fit_transform(new_train.values)\n",
    "new_test_afterPCA = pca.transform(new_test.values)\n",
    "# 降维\n",
    "new_train_afterPCA_da = pd.DataFrame(new_train_afterPCA, index=new_train.index.values)\n",
    "new_test_afterPCA_da = pd.DataFrame(new_test_afterPCA, index=new_test.index.values)\n",
    "\n",
    "labels_series1 = store1['labels']\n",
    "l1 = labels_series1.values  # l1是test data\n",
    "# print(l1)\n",
    "# print(type(l1))\n",
    "# print(l1.shape)\n",
    "labels_series = store['labels']\n",
    "l = labels_series.values  # l是train data\n",
    "\n",
    "clf = RandomForestClassifier(min_samples_leaf=55, n_estimators=150, max_depth=30, n_jobs=2, random_state=0)\n",
    "\n",
    "clf.fit(new_train_afterPCA_da, l)\n",
    "# print(new_test_afterPCA_da)\n",
    "# print(type(new_test_afterPCA_da))\n",
    "# print(new_test_afterPCA_da.shape)\n",
    "\n",
    "pred_rfc = clf.predict(new_test_afterPCA_da)\n",
    "\n",
    "# print(pred_rfc)\n",
    "# print(type(pred_rfc))\n",
    "# print(pred_rfc.shape)\n",
    "\n",
    "score = ACCS(l1, pred_rfc)\n",
    "print(\"Accuracy_Score: \" + str(score))"
   ]
  },
  {
   "cell_type": "code",
   "execution_count": null,
   "metadata": {},
   "outputs": [],
   "source": []
  }
 ],
 "metadata": {
  "kernelspec": {
   "display_name": "Python 3",
   "language": "python",
   "name": "python3"
  },
  "language_info": {
   "codemirror_mode": {
    "name": "ipython",
    "version": 3
   },
   "file_extension": ".py",
   "mimetype": "text/x-python",
   "name": "python",
   "nbconvert_exporter": "python",
   "pygments_lexer": "ipython3",
   "version": "3.8.3"
  }
 },
 "nbformat": 4,
 "nbformat_minor": 4
}
